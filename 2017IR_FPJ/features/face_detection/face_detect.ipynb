{
 "cells": [
  {
   "cell_type": "code",
   "execution_count": 22,
   "metadata": {},
   "outputs": [
    {
     "name": "stdout",
     "output_type": "stream",
     "text": [
      "face detected\n",
      "CPU times: user 547 ms, sys: 20 ms, total: 567 ms\n",
      "Wall time: 174 ms\n"
     ]
    }
   ],
   "source": [
    "import cv2\n",
    "\n",
    "face = cv2.CascadeClassifier(\"haarcascade_frontalface_default.xml\")\n",
    "\n",
    "settings = {\n",
    "    'scaleFactor': 1.2, \n",
    "    'minNeighbors': 3, \n",
    "    'minSize': (100, 100)\n",
    "}\n",
    "\n",
    "def rotate_image(image, angle):\n",
    "    if angle == 0: return image\n",
    "    height, width = image.shape[:2]\n",
    "    rot_mat = cv2.getRotationMatrix2D((width/2, height/2), angle, 0.9)\n",
    "    result = cv2.warpAffine(image, rot_mat, (width, height), flags=cv2.INTER_LINEAR)\n",
    "    return result\n",
    "\n",
    "def face_detect(img):\n",
    "    for angle in [0, -10, 10]:\n",
    "        rimg = rotate_image(img, angle)\n",
    "        detected = face.detectMultiScale(rimg, **settings)\n",
    "        if len(detected):\n",
    "            return True"
   ]
  }
 ],
 "metadata": {
  "kernelspec": {
   "display_name": "Python 3",
   "language": "python",
   "name": "python3"
  },
  "language_info": {
   "codemirror_mode": {
    "name": "ipython",
    "version": 3
   },
   "file_extension": ".py",
   "mimetype": "text/x-python",
   "name": "python",
   "nbconvert_exporter": "python",
   "pygments_lexer": "ipython3",
   "version": "3.6.1"
  }
 },
 "nbformat": 4,
 "nbformat_minor": 2
}
