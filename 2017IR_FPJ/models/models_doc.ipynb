{
 "cells": [
  {
   "cell_type": "code",
   "execution_count": 10,
   "metadata": {
    "collapsed": true
   },
   "outputs": [],
   "source": [
    "import pickle\n",
    "import gensim\n",
    "from os import listdir"
   ]
  },
  {
   "cell_type": "code",
   "execution_count": 29,
   "metadata": {},
   "outputs": [],
   "source": [
    "[_, ptts] = pickle.load(open(\"/tmp2/GorsachiusMelanolophus/afterProcessing/big/newBlogs_newPTTs_sen.p\", \"rb\"))"
   ]
  },
  {
   "cell_type": "code",
   "execution_count": 38,
   "metadata": {
    "collapsed": true
   },
   "outputs": [],
   "source": [
    "for ptt in ptts:\n",
    "    doc = []\n",
    "    for line in ptt['content']:\n",
    "        doc.extend(line)\n",
    "    docs.append(doc)"
   ]
  },
  {
   "cell_type": "code",
   "execution_count": 39,
   "metadata": {
    "collapsed": true
   },
   "outputs": [],
   "source": [
    "taggedDocs = []\n",
    "for uid, doc in enumerate(docs):\n",
    "    taggedDoc = gensim.models.doc2vec.TaggedDocument(doc, [uid])\n",
    "    taggedDocs.append(taggedDoc)"
   ]
  },
  {
   "cell_type": "code",
   "execution_count": 40,
   "metadata": {},
   "outputs": [],
   "source": [
    "model = gensim.models.doc2vec.Doc2Vec(taggedDocs, size=200, window=8, min_count=5, workers=4)"
   ]
  },
  {
   "cell_type": "code",
   "execution_count": null,
   "metadata": {
    "collapsed": true
   },
   "outputs": [],
   "source": [
    "def getTrainingData(ptts, docvecs, feature_size):\n",
    "    X = np.zeros((len(ptts), feature_size))\n",
    "    y = []\n",
    "    for doc_i, docvec in enumerate(docvecs):\n",
    "        if docvec != None:\n",
    "            X[doc_i] = np.copy(docvec)\n",
    "            if ptts[doc_i]['isSponsoredPost'] == True:\n",
    "                y.append(0)\n",
    "            else:\n",
    "                y.append(1)\n",
    "    y = np.asarray(y)\n",
    "    return X, y"
   ]
  },
  {
   "cell_type": "code",
   "execution_count": null,
   "metadata": {
    "collapsed": true
   },
   "outputs": [],
   "source": [
    "def main():\n",
    "    args = parse_args()\n",
    "    feature_size = 200\n",
    "    \n",
    "    path_S='/tmp2/GorsachiusMelanolophus/ptt_posts_new/sponsored/'\n",
    "    sN = len(listdir(path_S))\n",
    "    S_X, S_y = getTrainingData(ptts[:sN], model.docvecs[:sN], feature_size)\n",
    "    notS_X, notS_y = getTrainingData(ptts[sN:], model.docvecs[sN:], feature_size)\n",
    "    X_train, y_train = np.concatenate((S_X[:int(0.7*len(S_X))], notS_X[:int(0.7*len(notS_X))])), np.concatenate((S_y[:int(0.7*len(S_y))], notS_y[:int(0.7*len(notS_y))]))\n",
    "    X_valid, y_valid = np.concatenate((S_X[int(0.7*len(S_X)):], notS_X[int(0.7*len(notS_X)):])), np.concatenate((S_y[int(0.7*len(S_y)):], notS_y[int(0.7*len(notS_y)):]))\n",
    "    \n",
    "    maxAcc = 0\n",
    "    for i in range(times):\n",
    "        if args.model_type == 'svc':\n",
    "            #clf = SVC(kernel='linear')\n",
    "            clf = SVC(kernel='rbf')\n",
    "        elif args.model_type == 'nb':\n",
    "            clf = GaussianNB()\n",
    "        elif args.model_type == 'dt':\n",
    "            clf = DecisionTreeClassifier(random_state=0)\n",
    "        else:\n",
    "            raise ValueError('Wrong arg: model_type')\n",
    "\n",
    "        # balanceData\n",
    "        X_train_sample, y_train_sample  = balanceData(X_train, y_train)\n",
    "        # shuffle\n",
    "        X_train_sample, y_train_sample  = shuffle(X_train_sample, y_train_sample)\n",
    "        clf.fit(X_train_sample, y_train_sample)\n",
    "        pred = clf.predict(X_valid)\n",
    "        acc = np.mean([1 if pred[i] != y_valid[i] else 0 for i in range(len(y_valid))])\n",
    "        print('Validation acc:', acc)\n",
    "        if acc > maxAcc:\n",
    "            maxAcc = acc\n",
    "    print('maxAcc:', maxAcc)"
   ]
  }
 ],
 "metadata": {
  "kernelspec": {
   "display_name": "Python 3",
   "language": "python",
   "name": "python3"
  },
  "language_info": {
   "codemirror_mode": {
    "name": "ipython",
    "version": 3
   },
   "file_extension": ".py",
   "mimetype": "text/x-python",
   "name": "python",
   "nbconvert_exporter": "python",
   "pygments_lexer": "ipython3",
   "version": "3.6.1"
  }
 },
 "nbformat": 4,
 "nbformat_minor": 2
}
