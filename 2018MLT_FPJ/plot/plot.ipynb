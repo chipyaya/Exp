{
 "cells": [
  {
   "cell_type": "code",
   "execution_count": 25,
   "metadata": {
    "collapsed": true
   },
   "outputs": [],
   "source": [
    "import json\n",
    "import matplotlib.pyplot as plt\n",
    "%matplotlib inline"
   ]
  },
  {
   "cell_type": "code",
   "execution_count": 76,
   "metadata": {
    "collapsed": true
   },
   "outputs": [],
   "source": [
    "def plot_loss(record_file, title, loss):\n",
    "\n",
    "    f = open(record_file)\n",
    "\n",
    "    lines = [line.rstrip('\\n') for line in f]\n",
    "    train_loss_list = []\n",
    "    val_loss_list = []\n",
    "    for line in lines:\n",
    "        data = json.loads(line)\n",
    "        train_loss_list.append(data['loss'])\n",
    "        val_loss_list.append(data['val_loss'])\n",
    "\n",
    "    plt.figure()\n",
    "    plt.plot(train_loss_list, color='g', label='training loss')\n",
    "    plt.plot(val_loss_list, color='b', label='valid loss')\n",
    "    plt.xlabel('epoch')\n",
    "    plt.ylabel(loss)\n",
    "    plt.title(title)\n",
    "    plt.legend(loc='upper right')\n",
    "    plt.savefig(title+'.png')\n",
    "    #plt.show()\n"
   ]
  },
  {
   "cell_type": "code",
   "execution_count": 78,
   "metadata": {},
   "outputs": [
    {
     "data": {
      "image/png": "[encoded data removed]",
      "text/plain": [
       "<matplotlib.figure.Figure at 0x7f6f3b71e5f8>"
      ]
     },
     "metadata": {},
     "output_type": "display_data"
    }
   ],
   "source": [
    "plot_loss('checkpoints/loss_log_mf2_0_mape.json', 'SVD++', 'mape')"
   ]
  },
  {
   "cell_type": "code",
   "execution_count": null,
   "metadata": {
    "collapsed": true
   },
   "outputs": [],
   "source": []
  },
  {
   "cell_type": "code",
   "execution_count": 73,
   "metadata": {
    "collapsed": true
   },
   "outputs": [],
   "source": [
    "import numpy as np\n",
    "fn_mape = 'old_files/outputs/subm_mf_1_argloss_mape_mape_raw.csv'\n",
    "fn_mae = 'old_files/outputs/subm_mf_1_argloss_mae_mae_raw.csv'\n",
    "pred_mape = [float(line.rstrip('\\n')) for line in open(fn_mape)]\n",
    "pred_mae = [float(line.rstrip('\\n')) for line in open(fn_mae)]"
   ]
  },
  {
   "cell_type": "code",
   "execution_count": 74,
   "metadata": {
    "collapsed": true
   },
   "outputs": [],
   "source": [
    "def gen_final(thre):\n",
    "    print('thre:', thre)\n",
    "    final_pred = []\n",
    "    for p_mae, p_mape in zip(pred_mae, pred_mape):\n",
    "        if p_mape >= thre:\n",
    "            final_pred.append(p_mae)\n",
    "        else:\n",
    "            final_pred.append(p_mape)\n",
    "    np.savetxt('old_files/outputs/final_'+str(thre)+'.csv', final_pred, fmt='%1.4f')"
   ]
  },
  {
   "cell_type": "code",
   "execution_count": 75,
   "metadata": {},
   "outputs": [
    {
     "name": "stdout",
     "output_type": "stream",
     "text": [
      "thre: 1.0\n",
      "thre: 1.5\n",
      "thre: 2.0\n",
      "thre: 2.5\n",
      "thre: 3.0\n",
      "thre: 3.5\n",
      "thre: 4.0\n",
      "thre: 4.5\n",
      "thre: 5.0\n",
      "thre: 5.5\n",
      "thre: 6.0\n",
      "thre: 6.5\n",
      "thre: 7.0\n",
      "thre: 7.5\n",
      "thre: 8.0\n",
      "thre: 8.5\n",
      "thre: 9.0\n",
      "thre: 9.5\n"
     ]
    }
   ],
   "source": [
    "for i in np.arange(1, 10, 0.5):\n",
    "    gen_final(i)"
   ]
  },
  {
   "cell_type": "code",
   "execution_count": null,
   "metadata": {
    "collapsed": true
   },
   "outputs": [],
   "source": []
  }
 ],
 "metadata": {
  "kernelspec": {
   "display_name": "Python [default]",
   "language": "python",
   "name": "python3"
  },
  "language_info": {
   "codemirror_mode": {
    "name": "ipython",
    "version": 3
   },
   "file_extension": ".py",
   "mimetype": "text/x-python",
   "name": "python",
   "nbconvert_exporter": "python",
   "pygments_lexer": "ipython3",
   "version": "3.6.3"
  }
 },
 "nbformat": 4,
 "nbformat_minor": 2
}
